{
 "cells": [
  {
   "cell_type": "code",
   "execution_count": 1,
   "id": "cff867be",
   "metadata": {},
   "outputs": [],
   "source": [
    "using DifferentialEquations\n",
    "using Plots"
   ]
  },
  {
   "cell_type": "code",
   "execution_count": 7,
   "id": "683f4d70",
   "metadata": {},
   "outputs": [
    {
     "data": {
      "text/plain": [
       "\"/Users/dimashestakov/work/study/2022-2023/Математическое моделирование/mathmod/labs/lab4/report/image/First.png\""
      ]
     },
     "execution_count": 7,
     "metadata": {},
     "output_type": "execute_result"
    }
   ],
   "source": [
    "function ode_fn_1(du, u, p, t)\n",
    "    x, y = u\n",
    "    du[1] = y\n",
    "    du[2] = -2*x\n",
    "end\n",
    "\n",
    "t_begin = 0.0\n",
    "t_end = 44\n",
    "tspan = (t_begin, t_end)\n",
    "\n",
    "#Initial condition\n",
    "x_init = 1.5\n",
    "y_init = 1.1\n",
    "\n",
    "prob1 = ODEProblem(ode_fn_1, [x_init, y_init], tspan)\n",
    "\n",
    "sol1 = solve(prob1, Tsit5(), reltol=1e-16, abstol=1e-16)\n",
    "x_sol_1 = [u[1] for u in sol1.u]\n",
    "y_sol_1 = [u[2] for u in sol1.u]\n",
    "\n",
    "plot(x_sol_1, y_sol_1, \n",
    "    linewidth = 2,\n",
    "    title = \"Фазовый портрет №1\",\n",
    "    xaxis = \"x\",\n",
    "    yaxis = \"y\",\n",
    "    legend = false)\n",
    "savefig(\"report/image/First.png\")"
   ]
  },
  {
   "cell_type": "code",
   "execution_count": 8,
   "id": "cc32a376",
   "metadata": {},
   "outputs": [
    {
     "data": {
      "text/plain": [
       "\"/Users/dimashestakov/work/study/2022-2023/Математическое моделирование/mathmod/labs/lab4/report/image/Second.png\""
      ]
     },
     "execution_count": 8,
     "metadata": {},
     "output_type": "execute_result"
    }
   ],
   "source": [
    "function ode_fn_2(du, u, p, t)\n",
    "    x, y = u\n",
    "    du[1] = y\n",
    "    du[2] = -3*x - 3*y \n",
    "end\n",
    "\n",
    "t_begin = 0.0\n",
    "t_end = 44\n",
    "tspan = (t_begin, t_end)\n",
    "\n",
    "#Initial condition\n",
    "x_init = 1.5\n",
    "y_init = 1.1\n",
    "\n",
    "prob1 = ODEProblem(ode_fn_2, [x_init, y_init], tspan)\n",
    "\n",
    "sol1 = solve(prob1, Tsit5(), reltol=1e-16, abstol=1e-16)\n",
    "x_sol_1 = [u[1] for u in sol1.u]\n",
    "y_sol_1 = [u[2] for u in sol1.u]\n",
    "\n",
    "plot(x_sol_1, y_sol_1, \n",
    "    linewidth = 2,\n",
    "    title = \"Фазовый портрет №2\",\n",
    "    xaxis = \"x\",\n",
    "    yaxis = \"y\",\n",
    "    legend = false)\n",
    "\n",
    "savefig(\"report/image/Second.png\")"
   ]
  },
  {
   "cell_type": "code",
   "execution_count": 9,
   "id": "87ada40c",
   "metadata": {},
   "outputs": [
    {
     "data": {
      "text/plain": [
       "\"/Users/dimashestakov/work/study/2022-2023/Математическое моделирование/mathmod/labs/lab4/report/image/Third.png\""
      ]
     },
     "execution_count": 9,
     "metadata": {},
     "output_type": "execute_result"
    }
   ],
   "source": [
    "function ode_fn_3(du, u, p, t)\n",
    "    x, y = u\n",
    "    du[1] = y\n",
    "    du[2] = -3*x - 3*y - sin(4*t)\n",
    "end\n",
    "\n",
    "t_begin = 0.0\n",
    "t_end = 44\n",
    "tspan = (t_begin, t_end)\n",
    "\n",
    "#Initial condition\n",
    "x_init = 1.5\n",
    "y_init = 1.1\n",
    "\n",
    "prob1 = ODEProblem(ode_fn_3, [x_init, y_init], tspan)\n",
    "\n",
    "sol1 = solve(prob1, Tsit5(), reltol=1e-16, abstol=1e-16)\n",
    "x_sol_1 = [u[1] for u in sol1.u]\n",
    "y_sol_1 = [u[2] for u in sol1.u]\n",
    "\n",
    "plot(x_sol_1, y_sol_1, \n",
    "    linewidth = 2,\n",
    "    title = \"Фазовый портрет №3\",\n",
    "    xaxis = \"x\",\n",
    "    yaxis = \"y\",\n",
    "    legend = false)\n",
    "savefig(\"report/image/Third.png\")"
   ]
  },
  {
   "cell_type": "code",
   "execution_count": null,
   "id": "a8d35ad5",
   "metadata": {},
   "outputs": [],
   "source": []
  }
 ],
 "metadata": {
  "kernelspec": {
   "display_name": "Julia 1.6.7",
   "language": "julia",
   "name": "julia-1.6"
  },
  "language_info": {
   "file_extension": ".jl",
   "mimetype": "application/julia",
   "name": "julia",
   "version": "1.6.7"
  }
 },
 "nbformat": 4,
 "nbformat_minor": 5
}
