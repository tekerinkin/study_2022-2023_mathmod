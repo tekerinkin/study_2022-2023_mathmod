{
 "cells": [
  {
   "cell_type": "code",
   "execution_count": 1,
   "id": "4dd4d535",
   "metadata": {},
   "outputs": [
    {
     "data": {
      "text/plain": [
       "\"/Users/dimashestakov/work/study/2022-2023/Математическое моделирование/mathmod/labs/lab3/report/image/model2.png\""
      ]
     },
     "execution_count": 1,
     "metadata": {},
     "output_type": "execute_result"
    }
   ],
   "source": [
    "using DifferentialEquations\n",
    "using Plots\n",
    "\n",
    "function ode_fn_1(du, u, p, t)\n",
    "    x, y = u\n",
    "    du[1] = -0.301*x - 0.7*y + sin(20*t) + 1\n",
    "    du[2] = -0.502*x*y - 0.4*y + cos(20*t) + 1\n",
    "end\n",
    "\n",
    "t_begin = 0.0\n",
    "t_end = 0.001\n",
    "tspan = (t_begin, t_end)\n",
    "\n",
    "#Initial condition\n",
    "x_init = 39800\n",
    "y_init = 21400\n",
    "\n",
    "prob1 = ODEProblem(ode_fn_1, [x_init, y_init], tspan)\n",
    "\n",
    "sol1 = solve(prob1, Tsit5(), reltol=1e-16, abstol=1e-16)\n",
    "x_sol_1 = [u[1] for u in sol1.u]\n",
    "y_sol_1 = [u[2] for u in sol1.u]\n",
    "\n",
    "plot(sol1.t, x_sol_1, \n",
    "     linewidth=2,\n",
    "     title = \"Модель боевых действий №2\",\n",
    "     xaxis=\"Время\",\n",
    "     yaxis=\"Численность армий\",\n",
    "     label=\"Армия X\",\n",
    "     legend=true)\n",
    "\n",
    "plot!(sol1.t, y_sol_1,\n",
    "      linewidht = 2,\n",
    "      label = \"Армия Y\",\n",
    "      legend = true)\n",
    "\n",
    "savefig(\"image/model2.png\")"
   ]
  },
  {
   "cell_type": "code",
   "execution_count": 3,
   "id": "f6ca0c2e",
   "metadata": {},
   "outputs": [
    {
     "data": {
      "text/plain": [
       "\"/Users/dimashestakov/work/study/2022-2023/Математическое моделирование/mathmod/labs/lab3/report/image/model1.png\""
      ]
     },
     "execution_count": 3,
     "metadata": {},
     "output_type": "execute_result"
    }
   ],
   "source": [
    "function ode_fn(du, u, p, t)\n",
    "    x, y = u\n",
    "    du[1] = -0.42*x - 0.68*y + sin(5*t+1)\n",
    "    du[2] = -0.59*x - 0.43*y + cos(5*t+2)\n",
    "end\n",
    "\n",
    "t_begin = 0.0\n",
    "t_end = 1.5\n",
    "tspan = (t_begin, t_end)\n",
    "\n",
    "#Initial condition\n",
    "x_init = 39800\n",
    "y_init = 21400\n",
    "\n",
    "prob = ODEProblem(ode_fn, [x_init, y_init], tspan)\n",
    "\n",
    "sol = solve(prob, Tsit5(), reltol=1e-8, abstol=1e-8)\n",
    "x_sol = [u[1] for u in sol.u]\n",
    "y_sol = [u[2] for u in sol.u]\n",
    "\n",
    "plot(sol.t, x_sol, \n",
    "     linewidth=2,\n",
    "     title = \"Модель боевых действий №1\",\n",
    "     xaxis=\"Время\",\n",
    "     yaxis=\"Численность армий\",\n",
    "     label=\"Армия X\",\n",
    "     legend=true)\n",
    "\n",
    "plot!(sol.t, y_sol,\n",
    "      linewidht = 2,\n",
    "      label = \"Армия Y\",\n",
    "      legend = true)\n",
    "savefig(\"image/model1.png\")"
   ]
  },
  {
   "cell_type": "code",
   "execution_count": null,
   "id": "f16b519e",
   "metadata": {},
   "outputs": [],
   "source": []
  }
 ],
 "metadata": {
  "kernelspec": {
   "display_name": "Julia 1.6.7",
   "language": "julia",
   "name": "julia-1.6"
  },
  "language_info": {
   "file_extension": ".jl",
   "mimetype": "application/julia",
   "name": "julia",
   "version": "1.6.7"
  }
 },
 "nbformat": 4,
 "nbformat_minor": 5
}
