{
 "cells": [
  {
   "cell_type": "code",
   "execution_count": 10,
   "id": "cb6aa973",
   "metadata": {},
   "outputs": [
    {
     "ename": "LoadError",
     "evalue": "IOError: pwd(): no such file or directory (ENOENT)",
     "output_type": "error",
     "traceback": [
      "IOError: pwd(): no such file or directory (ENOENT)",
      "",
      "Stacktrace:",
      " [1] uv_error",
      "   @ ./libuv.jl:97 [inlined]",
      " [2] pwd()",
      "   @ Base.Filesystem ./file.jl:59",
      " [3] abspath(a::String)",
      "   @ Base.Filesystem ./path.jl:392",
      " [4] savefig(plt::Plots.Plot{Plots.GRBackend}, fn::String)",
      "   @ Plots ~/.julia/packages/Plots/io9zQ/src/output.jl:139",
      " [5] savefig(fn::String)",
      "   @ Plots ~/.julia/packages/Plots/io9zQ/src/output.jl:154",
      " [6] top-level scope",
      "   @ In[10]:37"
     ]
    }
   ],
   "source": [
    "using DifferentialEquations\n",
    "using Plots\n",
    "\n",
    "function ode_fn_1(du, u, p, t)\n",
    "    x, y = u\n",
    "    du[1] = -0.301*x - 0.7*y + sin(20*t) + 1\n",
    "    du[2] = -0.502*x*y - 0.4*y + cos(20*t) + 1\n",
    "end\n",
    "\n",
    "t_begin = 0.0\n",
    "t_end = 0.001\n",
    "tspan = (t_begin, t_end)\n",
    "\n",
    "#Initial condition\n",
    "x_init = 39800\n",
    "y_init = 21400\n",
    "\n",
    "prob1 = ODEProblem(ode_fn_1, [x_init, y_init], tspan)\n",
    "\n",
    "sol1 = solve(prob1, Tsit5(), reltol=1e-16, abstol=1e-16)\n",
    "x_sol_1 = [u[1] for u in sol1.u]\n",
    "y_sol_1 = [u[2] for u in sol1.u]\n",
    "\n",
    "plot(sol1.t, x_sol_1, \n",
    "     linewidth=2,\n",
    "     title = \"Модель боевых действий №2\",\n",
    "     xaxis=\"Время\",\n",
    "     yaxis=\"Численность армий\",\n",
    "     label=\"Армия X\",\n",
    "     legend=true)\n",
    "\n",
    "plot!(sol1.t, y_sol_1,\n",
    "      linewidht = 2,\n",
    "      label = \"Армия Y\",\n",
    "      legend = true)\n",
    "\n",
    "savefig(\"image/model2.png\")"
   ]
  },
  {
   "cell_type": "code",
   "execution_count": null,
   "id": "f36f692c",
   "metadata": {},
   "outputs": [],
   "source": []
  }
 ],
 "metadata": {
  "kernelspec": {
   "display_name": "Julia 1.6.7",
   "language": "julia",
   "name": "julia-1.6"
  },
  "language_info": {
   "file_extension": ".jl",
   "mimetype": "application/julia",
   "name": "julia",
   "version": "1.6.7"
  }
 },
 "nbformat": 4,
 "nbformat_minor": 5
}
