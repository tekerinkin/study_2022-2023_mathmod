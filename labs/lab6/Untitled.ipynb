{
 "cells": [
  {
   "cell_type": "code",
   "execution_count": 1,
   "id": "fe0003af",
   "metadata": {},
   "outputs": [],
   "source": [
    "using Plots\n",
    "using DifferentialEquations"
   ]
  },
  {
   "cell_type": "code",
   "execution_count": 29,
   "id": "df8a26b7",
   "metadata": {},
   "outputs": [
    {
     "data": {
      "text/plain": [
       "\"/Users/dimashestakov/work/study/2022-2023/Математическое моделирование/mathmod/labs/lab6/report/image/1.png\""
      ]
     },
     "execution_count": 29,
     "metadata": {},
     "output_type": "execute_result"
    }
   ],
   "source": [
    "α = 0.01\n",
    "β = 0.02\n",
    "N = 10100\n",
    "I_0 = 66\n",
    "R_0 = 26\n",
    "\n",
    "S_0 = N - I_0 - R_0\n",
    "\n",
    "# I < I*\n",
    "function ode_fn_1(du, u, p, t)\n",
    "    x,y,z = u \n",
    "    du[1] = 0*x\n",
    "    du[2] = -β*y\n",
    "    du[3] = β*y\n",
    "end\n",
    "\n",
    "t_begin = 0.0\n",
    "t_end = 200\n",
    "tspan = (t_begin, t_end)\n",
    "\n",
    "prob1 = ODEProblem(ode_fn_1, [S_0, I_0, R_0], tspan)\n",
    "\n",
    "sol1 = solve(prob1, Tsit5(), reltol=1e-16, abstol=1e-16)\n",
    "x_sol_1 = [u[1] for u in sol1.u]\n",
    "y_sol_1 = [u[2] for u in sol1.u]\n",
    "z_sol_1 = [u[3] for u in sol1.u]\n",
    "\n",
    "plot(sol1.t, x_sol_1, \n",
    "    linewidth = 2,\n",
    "    title = \"Графики числа S(t), I(t), R(t) при I < I*\",\n",
    "    label = \"S(t)\",\n",
    "    legend = true)\n",
    "plot!(sol1.t, y_sol_1,\n",
    "     linewidth = 2,\n",
    "     label = \"I(t)\",\n",
    "     legend = true)\n",
    "plot!(sol1.t, z_sol_1, \n",
    "     linewidth = 2,\n",
    "     label = \"R(t)\",\n",
    "     legend = true)\n",
    "savefig(\"report/image/1.png\")"
   ]
  },
  {
   "cell_type": "code",
   "execution_count": 30,
   "id": "e35b8064",
   "metadata": {},
   "outputs": [
    {
     "data": {
      "text/plain": [
       "\"/Users/dimashestakov/work/study/2022-2023/Математическое моделирование/mathmod/labs/lab6/report/image/2.png\""
      ]
     },
     "execution_count": 30,
     "metadata": {},
     "output_type": "execute_result"
    }
   ],
   "source": [
    "plot(sol1.t, y_sol_1,\n",
    "     linewidth = 2,\n",
    "     label = \"I(t)\",\n",
    "     legend = true)\n",
    "plot!(sol1.t, z_sol_1, \n",
    "     linewidth = 2,\n",
    "     label = \"R(t)\",\n",
    "     legend = true)\n",
    "savefig(\"report/image/2.png\")"
   ]
  },
  {
   "cell_type": "code",
   "execution_count": 31,
   "id": "b44042d7",
   "metadata": {},
   "outputs": [
    {
     "data": {
      "text/plain": [
       "\"/Users/dimashestakov/work/study/2022-2023/Математическое моделирование/mathmod/labs/lab6/report/image/3.png\""
      ]
     },
     "execution_count": 31,
     "metadata": {},
     "output_type": "execute_result"
    }
   ],
   "source": [
    "function ode_fn_2(du, u, p, t)\n",
    "    x,y,z = u \n",
    "    du[1] = -α*x\n",
    "    du[2] = α*x-β*y\n",
    "    du[3] = β*y\n",
    "end\n",
    "\n",
    "prob2 = ODEProblem(ode_fn_2, [S_0, I_0, R_0], tspan)\n",
    "\n",
    "sol2 = solve(prob2, Tsit5(), reltol=1e-16, abstol=1e-16)\n",
    "x_sol_2 = [u[1] for u in sol2.u]\n",
    "y_sol_2 = [u[2] for u in sol2.u]\n",
    "z_sol_2 = [u[3] for u in sol2.u]\n",
    "\n",
    "plot(sol2.t, x_sol_2, \n",
    "    linewidth = 2,\n",
    "    title = \"Графики числа S(t), I(t), R(t) при I > I*\",\n",
    "    label = \"S(t)\",\n",
    "    legend = true)\n",
    "plot!(sol2.t, y_sol_2,\n",
    "     linewidth = 2,\n",
    "     label = \"I(t)\",\n",
    "     legend = true)\n",
    "plot!(sol2.t, z_sol_2, \n",
    "     linewidth = 2,\n",
    "     label = \"R(t)\",\n",
    "     legend = true)\n",
    "savefig(\"report/image/3.png\")"
   ]
  },
  {
   "cell_type": "code",
   "execution_count": null,
   "id": "7c4f54ca",
   "metadata": {},
   "outputs": [],
   "source": []
  }
 ],
 "metadata": {
  "kernelspec": {
   "display_name": "Julia 1.6.7",
   "language": "julia",
   "name": "julia-1.6"
  },
  "language_info": {
   "file_extension": ".jl",
   "mimetype": "application/julia",
   "name": "julia",
   "version": "1.6.7"
  }
 },
 "nbformat": 4,
 "nbformat_minor": 5
}
