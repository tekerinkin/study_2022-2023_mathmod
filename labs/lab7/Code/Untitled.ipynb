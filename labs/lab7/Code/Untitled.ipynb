{
 "cells": [
  {
   "cell_type": "code",
   "execution_count": 1,
   "id": "bc307f1a",
   "metadata": {},
   "outputs": [],
   "source": [
    "using Plots\n",
    "using DifferentialEquations"
   ]
  },
  {
   "cell_type": "code",
   "execution_count": 25,
   "id": "f533e2fb",
   "metadata": {},
   "outputs": [
    {
     "data": {
      "text/plain": [
       "\"/Users/dimashestakov/work/study/2022-2023/Математическое моделирование/mathmod/labs/lab7/report/image/graphic1.png\""
      ]
     },
     "execution_count": 25,
     "metadata": {},
     "output_type": "execute_result"
    }
   ],
   "source": [
    "N = 1111\n",
    "\n",
    "ode_fn(r, p, t) = (0.7 + 0.00002*r)*(N - r)\n",
    "\n",
    "t_begin = 0.0\n",
    "t_end = 40.0\n",
    "tspan = (t_begin, t_end)\n",
    "\n",
    "r0 = 11\n",
    "\n",
    "prob1 = ODEProblem(ode_fn, r0, tspan)\n",
    "sol1 = solve(prob1, Tsit5(), reltol=1e-16, abstol=1e-16)\n",
    "\n",
    "plot(sol1.t, sol1, \n",
    "    linewidth = 2,\n",
    "     title = \"График распространения рекламы #1\",\n",
    "     color =:red,\n",
    "     legend = true)\n",
    "savefig(\"../report/image/graphic1.png\")"
   ]
  },
  {
   "cell_type": "code",
   "execution_count": 26,
   "id": "1f4c72a0",
   "metadata": {},
   "outputs": [
    {
     "data": {
      "text/plain": [
       "\"/Users/dimashestakov/work/study/2022-2023/Математическое моделирование/mathmod/labs/lab7/report/image/graphic2.png\""
      ]
     },
     "execution_count": 26,
     "metadata": {},
     "output_type": "execute_result"
    }
   ],
   "source": [
    "ode_fn1(r, p, t) = (0.00008 + 0.9*r)*(N - r)\n",
    "\n",
    "t_begin = 0.0\n",
    "t_end = 0.05\n",
    "tspan = (t_begin, t_end)\n",
    "\n",
    "prob2 = ODEProblem(ode_fn1, r0, tspan)\n",
    "sol2 = solve(prob2, Tsit5(), reltol=1e-16, abstol=1e-16)\n",
    "\n",
    "plot(sol2.t, sol2, \n",
    "    linewidth = 2,\n",
    "     title = \"График распространения рекламы #2\",\n",
    "     color =:blue,\n",
    "     legend = true)\n",
    "savefig(\"../report/image/graphic2.png\")"
   ]
  },
  {
   "cell_type": "code",
   "execution_count": 27,
   "id": "45cf2ea9",
   "metadata": {},
   "outputs": [
    {
     "data": {
      "text/plain": [
       "\"/Users/dimashestakov/work/study/2022-2023/Математическое моделирование/mathmod/labs/lab7/report/image/graphic3.png\""
      ]
     },
     "execution_count": 27,
     "metadata": {},
     "output_type": "execute_result"
    }
   ],
   "source": [
    "ode_fn2(r, p, t) = (0.9*cos(t) + 0.9*r*cos(t))*(N - r)\n",
    "\n",
    "t_begin = 0.0\n",
    "t_end = 0.05\n",
    "tspan = (t_begin, t_end)\n",
    "\n",
    "prob3 = ODEProblem(ode_fn2, r0, tspan)\n",
    "sol3 = solve(prob3, Tsit5(), reltol=1e-16, abstol=1e-16)\n",
    "\n",
    "plot(sol3.t, sol3, \n",
    "    linewidth = 2,\n",
    "     title = \"График распространения рекламы #3\",\n",
    "     color =:green,\n",
    "     legend = true)\n",
    "savefig(\"../report/image/graphic3.png\")"
   ]
  },
  {
   "cell_type": "code",
   "execution_count": null,
   "id": "fc2b7709",
   "metadata": {},
   "outputs": [],
   "source": []
  }
 ],
 "metadata": {
  "kernelspec": {
   "display_name": "Julia 1.6.7",
   "language": "julia",
   "name": "julia-1.6"
  },
  "language_info": {
   "file_extension": ".jl",
   "mimetype": "application/julia",
   "name": "julia",
   "version": "1.6.7"
  }
 },
 "nbformat": 4,
 "nbformat_minor": 5
}
