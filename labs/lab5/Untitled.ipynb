{
 "cells": [
  {
   "cell_type": "code",
   "execution_count": 1,
   "id": "3489beaf",
   "metadata": {},
   "outputs": [],
   "source": [
    "using Plots\n",
    "using DifferentialEquations"
   ]
  },
  {
   "cell_type": "code",
   "execution_count": 8,
   "id": "88fb93f1",
   "metadata": {},
   "outputs": [
    {
     "data": {
      "text/plain": [
       "\"/Users/dimashestakov/work/study/2022-2023/Математическое моделирование/mathmod/labs/lab5/report/image/x_y.png\""
      ]
     },
     "execution_count": 8,
     "metadata": {},
     "output_type": "execute_result"
    }
   ],
   "source": [
    "function ode_fn_1(du, u, p, t)\n",
    "    x, y = u\n",
    "    du[1] = -0.59*x + 0.058*x*y\n",
    "    du[2] = 0.57*y - 0.056*x*y\n",
    "end\n",
    "\n",
    "t_begin = 0.0\n",
    "t_end = 44\n",
    "tspan = (t_begin, t_end)\n",
    "\n",
    "#Initial condition\n",
    "x_init = 8\n",
    "y_init = 18\n",
    "\n",
    "prob1 = ODEProblem(ode_fn_1, [x_init, y_init], tspan)\n",
    "\n",
    "sol1 = solve(prob1, Tsit5(), reltol=1e-16, abstol=1e-16)\n",
    "x_sol_1 = [u[1] for u in sol1.u]\n",
    "y_sol_1 = [u[2] for u in sol1.u]\n",
    "\n",
    "plot(x_sol_1, y_sol_1, \n",
    "    linewidth = 2,\n",
    "    title = \"Зависиость числа хищников от числа жертв\",\n",
    "    xaxis = \"x\",\n",
    "    yaxis = \"y\",\n",
    "    legend = false)\n",
    "savefig(\"report/image/x_y.png\")"
   ]
  },
  {
   "cell_type": "code",
   "execution_count": 9,
   "id": "949fd8b7",
   "metadata": {},
   "outputs": [
    {
     "data": {
      "text/plain": [
       "\"/Users/dimashestakov/work/study/2022-2023/Математическое моделирование/mathmod/labs/lab5/report/image/x.png\""
      ]
     },
     "execution_count": 9,
     "metadata": {},
     "output_type": "execute_result"
    }
   ],
   "source": [
    "plot(sol1.t, x_sol_1, \n",
    "    linewidth = 2,\n",
    "    title = \"Изменение числа хищников\",\n",
    "    xaxis = \"t\",\n",
    "    yaxis = \"x(t)\",\n",
    "    label = \"Число хищников x(t)\",\n",
    "    legend = true)\n",
    "savefig(\"report/image/x.png\")"
   ]
  },
  {
   "cell_type": "code",
   "execution_count": 10,
   "id": "053cf7b3",
   "metadata": {},
   "outputs": [
    {
     "data": {
      "text/plain": [
       "\"/Users/dimashestakov/work/study/2022-2023/Математическое моделирование/mathmod/labs/lab5/report/image/y.png\""
      ]
     },
     "execution_count": 10,
     "metadata": {},
     "output_type": "execute_result"
    }
   ],
   "source": [
    "plot(sol1.t, y_sol_1, \n",
    "    linewidth = 2,\n",
    "    title = \"Изменение числа хищников\",\n",
    "    xaxis = \"t\",\n",
    "    yaxis = \"y(t)\",\n",
    "    label = \"Число хищников y(t)\",\n",
    "    legend = true)\n",
    "savefig(\"report/image/y.png\")"
   ]
  },
  {
   "cell_type": "code",
   "execution_count": null,
   "id": "49c564a3",
   "metadata": {},
   "outputs": [],
   "source": []
  }
 ],
 "metadata": {
  "kernelspec": {
   "display_name": "Julia 1.6.7",
   "language": "julia",
   "name": "julia-1.6"
  },
  "language_info": {
   "file_extension": ".jl",
   "mimetype": "application/julia",
   "name": "julia",
   "version": "1.6.7"
  }
 },
 "nbformat": 4,
 "nbformat_minor": 5
}
